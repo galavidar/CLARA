{
 "cells": [
  {
   "cell_type": "code",
   "execution_count": 1,
   "id": "initial_id",
   "metadata": {
    "collapsed": true,
    "ExecuteTime": {
     "end_time": "2025-08-15T12:06:08.771558200Z",
     "start_time": "2025-08-15T12:06:08.058590Z"
    }
   },
   "outputs": [],
   "source": [
    "import pandas as pd"
   ]
  },
  {
   "cell_type": "code",
   "outputs": [
    {
     "name": "stderr",
     "output_type": "stream",
     "text": [
      "C:\\Users\\avida\\AppData\\Local\\Temp\\ipykernel_13780\\1054590859.py:1: DtypeWarning: Columns (3,7,10,11,12,13,15,16,22) have mixed types. Specify dtype option on import or set low_memory=False.\n",
      "  data = pd.read_csv(\"cleaned_combined_lendingclub.csv\",low_memory=True)\n"
     ]
    }
   ],
   "source": [
    "data = pd.read_csv(\"cleaned_combined_lendingclub.csv\",low_memory=True)"
   ],
   "metadata": {
    "collapsed": false,
    "ExecuteTime": {
     "end_time": "2025-08-15T12:37:33.666684900Z",
     "start_time": "2025-08-15T12:29:45.345258Z"
    }
   },
   "id": "724ea399d7776e39",
   "execution_count": 6
  },
  {
   "cell_type": "code",
   "outputs": [
    {
     "data": {
      "text/plain": "(29909442, 24)"
     },
     "execution_count": 8,
     "metadata": {},
     "output_type": "execute_result"
    }
   ],
   "source": [
    "data.shape"
   ],
   "metadata": {
    "collapsed": false,
    "ExecuteTime": {
     "end_time": "2025-08-15T12:42:18.667800500Z",
     "start_time": "2025-08-15T12:42:18.221552500Z"
    }
   },
   "id": "a669c7030b2d1624",
   "execution_count": 8
  },
  {
   "cell_type": "code",
   "outputs": [],
   "source": [
    "data.loc[data['accepted_or_rejected'] == 'rejected', 'loan_status'] = 'rejected'\n",
    "\n"
   ],
   "metadata": {
    "collapsed": false,
    "ExecuteTime": {
     "end_time": "2025-08-15T13:03:58.278169100Z",
     "start_time": "2025-08-15T13:03:55.550114500Z"
    }
   },
   "id": "7c9f45a4d7252b83",
   "execution_count": 13
  },
  {
   "cell_type": "code",
   "outputs": [
    {
     "name": "stdout",
     "output_type": "stream",
     "text": [
      "Remaining rows: 29907698\n"
     ]
    }
   ],
   "source": [
    "df = data.dropna(subset=[\"Amount Requested\", \"Debt-To-Income Ratio\", \"accepted_or_rejected\"])\n",
    "print(f\"Remaining rows: {len(df)}\")\n"
   ],
   "metadata": {
    "collapsed": false,
    "ExecuteTime": {
     "end_time": "2025-08-15T13:07:21.257543400Z",
     "start_time": "2025-08-15T13:05:42.654019500Z"
    }
   },
   "id": "e67d47a0f60339aa",
   "execution_count": 14
  },
  {
   "cell_type": "code",
   "outputs": [
    {
     "data": {
      "text/plain": "(29907698, 24)"
     },
     "execution_count": 15,
     "metadata": {},
     "output_type": "execute_result"
    }
   ],
   "source": [
    "df.shape"
   ],
   "metadata": {
    "collapsed": false,
    "ExecuteTime": {
     "end_time": "2025-08-15T13:07:21.654374Z",
     "start_time": "2025-08-15T13:07:21.261974500Z"
    }
   },
   "id": "c225429cab8b9f22",
   "execution_count": 15
  },
  {
   "cell_type": "code",
   "outputs": [],
   "source": [
    "df.to_csv(\"lendingclub_filtered.csv\", index=False)\n"
   ],
   "metadata": {
    "collapsed": false,
    "ExecuteTime": {
     "end_time": "2025-08-15T13:16:56.546492200Z",
     "start_time": "2025-08-15T13:11:45.654715800Z"
    }
   },
   "id": "621508913c288fdb",
   "execution_count": 16
  },
  {
   "cell_type": "code",
   "outputs": [
    {
     "data": {
      "text/plain": "0"
     },
     "execution_count": 17,
     "metadata": {},
     "output_type": "execute_result"
    }
   ],
   "source": [
    "import os\n",
    "os.system(\"java -version\")\n"
   ],
   "metadata": {
    "collapsed": false,
    "ExecuteTime": {
     "end_time": "2025-08-15T14:23:59.920359600Z",
     "start_time": "2025-08-15T14:23:59.703737200Z"
    }
   },
   "id": "b6598eb282baa108",
   "execution_count": 17
  },
  {
   "cell_type": "code",
   "outputs": [
    {
     "name": "stderr",
     "output_type": "stream",
     "text": [
      "C:\\Users\\avida\\AppData\\Local\\Temp\\ipykernel_13780\\2017621587.py:8: DtypeWarning: Columns (3,7,10,11,12,13,16,22) have mixed types. Specify dtype option on import or set low_memory=False.\n",
      "  df_sample_50k = pd.read_csv(\"lendingclub_filtered.csv\", usecols=header, skiprows=lambda i: i > 0 and np.random.rand() > 50000 / 2500000)\n"
     ]
    },
    {
     "name": "stdout",
     "output_type": "stream",
     "text": [
      "✅ Sample saved to 'sample_lendingclub_50k.csv'\n"
     ]
    }
   ],
   "source": [
    "import pandas as pd\n",
    "import numpy as np\n",
    "\n",
    "# Load just the header first to know what you're working with\n",
    "header = pd.read_csv(\"lendingclub_filtered.csv\", nrows=0).columns.tolist()\n",
    "\n",
    "# Load a random sample of 50,000 rows\n",
    "df_sample_50k = pd.read_csv(\"lendingclub_filtered.csv\", usecols=header, skiprows=lambda i: i > 0 and np.random.rand() > 50000 / 2500000)\n",
    "\n",
    "# Save to CSV\n",
    "df_sample_50k.to_csv(\"sample_lendingclub_50k.csv\", index=False)\n",
    "\n",
    "# To sample 100,000 instead:\n",
    "# df_sample_100k = pd.read_csv(\"cleaned_lendingclub_filtered.csv\", usecols=header, skiprows=lambda i: i > 0 and np.random.rand() > 100000 / 2500000)\n",
    "# df_sample_100k.to_csv(\"sample_lendingclub_100k.csv\", index=False)\n",
    "\n",
    "print(\"✅ Sample saved to 'sample_lendingclub_50k.csv'\")\n"
   ],
   "metadata": {
    "collapsed": false,
    "ExecuteTime": {
     "end_time": "2025-08-16T08:35:22.555128400Z",
     "start_time": "2025-08-16T08:34:47.235909500Z"
    }
   },
   "id": "e986fadf5845ab79",
   "execution_count": 18
  },
  {
   "cell_type": "code",
   "outputs": [
    {
     "name": "stdout",
     "output_type": "stream",
     "text": [
      "✅ Balanced sample saved to 'sample_lendingclub_50k.csv'\n"
     ]
    }
   ],
   "source": [
    "import pandas as pd\n",
    "\n",
    "# Define labels\n",
    "default_statuses = {\"Charged Off\", \"Default\", \"Late(16-30 days)\", \"Late (31-120 days)\", \"In Grace Period\"}\n",
    "non_default_statuses = {\"Fully Paid\", \"Current\"}\n",
    "\n",
    "# Prepare containers\n",
    "default_rows = []\n",
    "non_default_rows = []\n",
    "\n",
    "# How many rows we want from each class\n",
    "target_per_class = 25000\n",
    "\n",
    "# Load in chunks\n",
    "chunk_size = 100_000\n",
    "reader = pd.read_csv(\"lendingclub_filtered.csv\", chunksize=chunk_size)\n",
    "\n",
    "for chunk in reader:\n",
    "    if \"loan_status\" not in chunk.columns:\n",
    "        raise ValueError(\"loan_status column missing\")\n",
    "\n",
    "    # Filter rows into groups\n",
    "    default_chunk = chunk[chunk[\"loan_status\"].isin(default_statuses)]\n",
    "    non_default_chunk = chunk[chunk[\"loan_status\"].isin(non_default_statuses)]\n",
    "\n",
    "    default_rows.append(default_chunk)\n",
    "    non_default_rows.append(non_default_chunk)\n",
    "\n",
    "    # Stop early if we’ve gathered enough\n",
    "    if sum(len(df) for df in default_rows) > target_per_class and sum(len(df) for df in non_default_rows) > target_per_class:\n",
    "        break\n",
    "\n",
    "# Concatenate and sample\n",
    "df_default = pd.concat(default_rows).sample(n=target_per_class, random_state=42)\n",
    "df_non_default = pd.concat(non_default_rows).sample(n=target_per_class, random_state=42)\n",
    "\n",
    "# Combine and shuffle\n",
    "df_sample_50k = pd.concat([df_default, df_non_default]).sample(frac=1, random_state=42)\n",
    "\n",
    "# Save\n",
    "df_sample_50k.to_csv(\"sample_lendingclub_50k.csv\", index=False)\n",
    "print(\"✅ Balanced sample saved to 'sample_lendingclub_50k.csv'\")\n"
   ],
   "metadata": {
    "collapsed": false,
    "ExecuteTime": {
     "end_time": "2025-08-16T13:21:47.117191300Z",
     "start_time": "2025-08-16T13:21:45.082254Z"
    }
   },
   "id": "c780d87d8a0283",
   "execution_count": 19
  },
  {
   "cell_type": "code",
   "outputs": [],
   "source": [],
   "metadata": {
    "collapsed": false
   },
   "id": "2b06471b29d6f038"
  }
 ],
 "metadata": {
  "kernelspec": {
   "display_name": "Python 3",
   "language": "python",
   "name": "python3"
  },
  "language_info": {
   "codemirror_mode": {
    "name": "ipython",
    "version": 2
   },
   "file_extension": ".py",
   "mimetype": "text/x-python",
   "name": "python",
   "nbconvert_exporter": "python",
   "pygments_lexer": "ipython2",
   "version": "2.7.6"
  }
 },
 "nbformat": 4,
 "nbformat_minor": 5
}
