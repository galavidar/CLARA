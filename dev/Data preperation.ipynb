{
 "cells": [
  {
   "cell_type": "code",
   "execution_count": 2,
   "id": "initial_id",
   "metadata": {
    "collapsed": true,
    "ExecuteTime": {
     "end_time": "2025-08-21T09:08:03.680307100Z",
     "start_time": "2025-08-21T09:08:02.382273Z"
    }
   },
   "outputs": [],
   "source": [
    "import pandas as pd\n"
   ]
  },
  {
   "cell_type": "code",
   "outputs": [
    {
     "name": "stderr",
     "output_type": "stream",
     "text": [
      "C:\\Users\\avida\\AppData\\Local\\Temp\\ipykernel_37396\\1033986561.py:1: DtypeWarning: Columns (0,19,49,59,118,129,130,131,134,135,136,139,145,146,147) have mixed types. Specify dtype option on import or set low_memory=False.\n",
      "  df_accepted=pd.read_csv(\"accepted_2007_to_2018Q4.csv\",low_memory=True)\n"
     ]
    }
   ],
   "source": [
    "df_accepted=pd.read_csv(\"accepted_2007_to_2018Q4.csv\",low_memory=True)\n",
    "df_rejected=pd.read_csv(\"rejected_2007_to_2018Q4.csv\",low_memory=True)"
   ],
   "metadata": {
    "collapsed": false,
    "ExecuteTime": {
     "end_time": "2025-08-14T11:48:26.537033Z",
     "start_time": "2025-08-14T11:46:00.760049700Z"
    }
   },
   "id": "8deb094105516b30",
   "execution_count": 17
  },
  {
   "cell_type": "code",
   "outputs": [
    {
     "data": {
      "text/plain": "   Amount Requested Application Date                        Loan Title  \\\n0            1000.0       2007-05-26  Wedding Covered but No Honeymoon   \n1            1000.0       2007-05-26                Consolidating Debt   \n2           11000.0       2007-05-27       Want to consolidate my debt   \n3            6000.0       2007-05-27                           waksman   \n4            1500.0       2007-05-27                            mdrigo   \n\n   Risk_Score Debt-To-Income Ratio Zip Code State Employment Length  \\\n0       693.0                  10%    481xx    NM           4 years   \n1       703.0                  10%    010xx    MA          < 1 year   \n2       715.0                  10%    212xx    MD            1 year   \n3       698.0               38.64%    017xx    MA          < 1 year   \n4       509.0                9.43%    209xx    MD          < 1 year   \n\n   Policy Code  \n0          0.0  \n1          0.0  \n2          0.0  \n3          0.0  \n4          0.0  ",
      "text/html": "<div>\n<style scoped>\n    .dataframe tbody tr th:only-of-type {\n        vertical-align: middle;\n    }\n\n    .dataframe tbody tr th {\n        vertical-align: top;\n    }\n\n    .dataframe thead th {\n        text-align: right;\n    }\n</style>\n<table border=\"1\" class=\"dataframe\">\n  <thead>\n    <tr style=\"text-align: right;\">\n      <th></th>\n      <th>Amount Requested</th>\n      <th>Application Date</th>\n      <th>Loan Title</th>\n      <th>Risk_Score</th>\n      <th>Debt-To-Income Ratio</th>\n      <th>Zip Code</th>\n      <th>State</th>\n      <th>Employment Length</th>\n      <th>Policy Code</th>\n    </tr>\n  </thead>\n  <tbody>\n    <tr>\n      <th>0</th>\n      <td>1000.0</td>\n      <td>2007-05-26</td>\n      <td>Wedding Covered but No Honeymoon</td>\n      <td>693.0</td>\n      <td>10%</td>\n      <td>481xx</td>\n      <td>NM</td>\n      <td>4 years</td>\n      <td>0.0</td>\n    </tr>\n    <tr>\n      <th>1</th>\n      <td>1000.0</td>\n      <td>2007-05-26</td>\n      <td>Consolidating Debt</td>\n      <td>703.0</td>\n      <td>10%</td>\n      <td>010xx</td>\n      <td>MA</td>\n      <td>&lt; 1 year</td>\n      <td>0.0</td>\n    </tr>\n    <tr>\n      <th>2</th>\n      <td>11000.0</td>\n      <td>2007-05-27</td>\n      <td>Want to consolidate my debt</td>\n      <td>715.0</td>\n      <td>10%</td>\n      <td>212xx</td>\n      <td>MD</td>\n      <td>1 year</td>\n      <td>0.0</td>\n    </tr>\n    <tr>\n      <th>3</th>\n      <td>6000.0</td>\n      <td>2007-05-27</td>\n      <td>waksman</td>\n      <td>698.0</td>\n      <td>38.64%</td>\n      <td>017xx</td>\n      <td>MA</td>\n      <td>&lt; 1 year</td>\n      <td>0.0</td>\n    </tr>\n    <tr>\n      <th>4</th>\n      <td>1500.0</td>\n      <td>2007-05-27</td>\n      <td>mdrigo</td>\n      <td>509.0</td>\n      <td>9.43%</td>\n      <td>209xx</td>\n      <td>MD</td>\n      <td>&lt; 1 year</td>\n      <td>0.0</td>\n    </tr>\n  </tbody>\n</table>\n</div>"
     },
     "execution_count": 3,
     "metadata": {},
     "output_type": "execute_result"
    }
   ],
   "source": [
    "df_rejected.head() "
   ],
   "metadata": {
    "collapsed": false,
    "ExecuteTime": {
     "end_time": "2025-08-13T12:26:34.758670600Z",
     "start_time": "2025-08-13T12:26:32.897045200Z"
    }
   },
   "id": "bdc6454b9a01b59c",
   "execution_count": 3
  },
  {
   "cell_type": "code",
   "outputs": [
    {
     "data": {
      "text/plain": "Index(['id', 'member_id', 'loan_amnt', 'funded_amnt', 'funded_amnt_inv',\n       'term', 'int_rate', 'installment', 'grade', 'sub_grade',\n       ...\n       'hardship_payoff_balance_amount', 'hardship_last_payment_amount',\n       'disbursement_method', 'debt_settlement_flag',\n       'debt_settlement_flag_date', 'settlement_status', 'settlement_date',\n       'settlement_amount', 'settlement_percentage', 'settlement_term'],\n      dtype='object', length=151)"
     },
     "execution_count": 4,
     "metadata": {},
     "output_type": "execute_result"
    }
   ],
   "source": [
    "df_accepted.columns"
   ],
   "metadata": {
    "collapsed": false,
    "ExecuteTime": {
     "end_time": "2025-08-13T12:33:17.990006900Z",
     "start_time": "2025-08-13T12:33:17.934269200Z"
    }
   },
   "id": "51d8ad346ea9f09f",
   "execution_count": 4
  },
  {
   "cell_type": "code",
   "outputs": [
    {
     "name": "stderr",
     "output_type": "stream",
     "text": [
      "C:\\Users\\avida\\AppData\\Local\\Temp\\ipykernel_37396\\497444407.py:51: FutureWarning: The behavior of DataFrame concatenation with empty or all-NA entries is deprecated. In a future version, this will no longer exclude empty or all-NA columns when determining the result dtypes. To retain the old behavior, exclude the relevant entries before the concat operation.\n",
      "  df_combined = pd.concat([accepted_filtered, rejected], ignore_index=True)\n"
     ]
    },
    {
     "name": "stdout",
     "output_type": "stream",
     "text": [
      "✅ Saved to cleaned_combined_lendingclub.csv\n"
     ]
    }
   ],
   "source": [
    "\n",
    "# === Step 1: Clean rejected data ===\n",
    "# Drop unwanted columns\n",
    "rejected = df_rejected.drop(columns=[\"State\", \"Zip Code\"], errors=\"ignore\")\n",
    "\n",
    "# Add label\n",
    "rejected[\"accepted_or_rejected\"] = \"rejected\"\n",
    "\n",
    "# === Step 2: Rename columns in accepted to match rejected ===\n",
    "rename_map = {\n",
    "    \"loan_amnt\": \"Amount Requested\",\n",
    "    \"issue_d\": \"Application Date\",\n",
    "    \"title\": \"Loan Title\",\n",
    "    \"dti\": \"Debt-To-Income Ratio\",\n",
    "    \"emp_length\": \"Employment Length\",\n",
    "    \"policy_code\": \"Policy Code\",\n",
    "    \"fico_range_high\": \"Risk_Score\"\n",
    "}\n",
    "\n",
    "accepted = df_accepted.rename(columns=rename_map)\n",
    "\n",
    "# Drop unwanted columns\n",
    "accepted = accepted.drop(columns=[\"addr_state\", \"zip_code\"], errors=\"ignore\")\n",
    "\n",
    "# === Step 3: Add extra accepted-only columns ===\n",
    "extra_cols = [\n",
    "    \"term\", \"int_rate\", \"installment\", \"grade\", \"sub_grade\", \"emp_title\",\n",
    "    \"home_ownership\", \"annual_inc\", \"loan_status\", \"purpose\", \"delinq_2yrs\",\n",
    "    \"out_prncp\", \"recoveries\", \"num_actv_bc_tl\", \"pub_rec_bankruptcies\", \"debt_settlement_flag\"\n",
    "]\n",
    "\n",
    "# Keep only columns present in accepted\n",
    "extra_cols = [col for col in extra_cols if col in accepted.columns]\n",
    "\n",
    "# Combine renamed + extra columns\n",
    "final_accepted_cols = list(rename_map.values()) + extra_cols\n",
    "\n",
    "# Filter accepted data\n",
    "accepted_filtered = accepted[final_accepted_cols].copy()\n",
    "accepted_filtered[\"accepted_or_rejected\"] = \"accepted\"\n",
    "\n",
    "# === Step 4: Align columns between accepted and rejected ===\n",
    "# Ensure rejected has the same columns (fill missing with NaN)\n",
    "for col in accepted_filtered.columns:\n",
    "    if col not in rejected.columns:\n",
    "        rejected[col] = pd.NA\n",
    "\n",
    "# Reorder rejected to match accepted\n",
    "rejected = rejected[accepted_filtered.columns]\n",
    "\n",
    "# === Step 5: Combine ===\n",
    "df_combined = pd.concat([accepted_filtered, rejected], ignore_index=True)\n",
    "\n",
    "# Save final dataset\n",
    "df_combined.to_csv(\"cleaned_combined_lendingclub.csv\", index=False)\n",
    "print(\"✅ Saved to cleaned_combined_lendingclub.csv\")\n"
   ],
   "metadata": {
    "collapsed": false,
    "ExecuteTime": {
     "end_time": "2025-08-14T12:05:37.092305Z",
     "start_time": "2025-08-14T11:52:36.060404400Z"
    }
   },
   "id": "efb51661c826daf9",
   "execution_count": 18
  },
  {
   "cell_type": "code",
   "outputs": [],
   "source": [
    "df_combined.columns"
   ],
   "metadata": {
    "collapsed": false,
    "is_executing": true
   },
   "id": "f2354d2a2f84f847",
   "execution_count": null
  },
  {
   "cell_type": "code",
   "outputs": [
    {
     "name": "stderr",
     "output_type": "stream",
     "text": [
      "C:\\Users\\avida\\AppData\\Local\\Temp\\ipykernel_34444\\2351027926.py:1: DtypeWarning: Columns (0,19,49,59,118,129,130,131,134,135,136,139,145,146,147) have mixed types. Specify dtype option on import or set low_memory=False.\n",
      "  df_accepted=pd.read_csv(\"accepted_2007_to_2018Q4.csv\",low_memory=True)\n"
     ]
    }
   ],
   "source": [
    "df_accepted=pd.read_csv(\"accepted_2007_to_2018Q4.csv\",low_memory=True)"
   ],
   "metadata": {
    "collapsed": false,
    "ExecuteTime": {
     "end_time": "2025-08-21T09:10:24.302647Z",
     "start_time": "2025-08-21T09:08:08.950324100Z"
    }
   },
   "id": "4e67052904f301d5",
   "execution_count": 3
  },
  {
   "cell_type": "code",
   "outputs": [],
   "source": [
    "rename_map = {\n",
    "    \"loan_amnt\": \"Amount Requested\",\n",
    "    \"issue_d\": \"Application Date\",\n",
    "    \"title\": \"Loan Title\",\n",
    "    \"dti\": \"Debt-To-Income Ratio\",\n",
    "    \"emp_length\": \"Employment Length\",\n",
    "\n",
    "}\n",
    "\n",
    "accepted = df_accepted.rename(columns=rename_map)"
   ],
   "metadata": {
    "collapsed": false,
    "ExecuteTime": {
     "end_time": "2025-08-21T09:21:54.107276700Z",
     "start_time": "2025-08-21T09:21:30.896224900Z"
    }
   },
   "id": "b152ccc38fb94f30",
   "execution_count": 5
  },
  {
   "cell_type": "code",
   "outputs": [
    {
     "data": {
      "text/plain": "   Amount Requested          Loan Title                    emp_title  \\\n0            3600.0  Debt consolidation                      leadman   \n1           24700.0            Business                     Engineer   \n2           20000.0                 NaN                 truck driver   \n3           35000.0  Debt consolidation  Information Systems Officer   \n4           10400.0      Major purchase          Contract Specialist   \n\n  Employment Length home_ownership  annual_inc             purpose  \\\n0         10+ years       MORTGAGE     55000.0  debt_consolidation   \n1         10+ years       MORTGAGE     65000.0      small_business   \n2         10+ years       MORTGAGE     63000.0    home_improvement   \n3         10+ years       MORTGAGE    110000.0  debt_consolidation   \n4           3 years       MORTGAGE    104433.0      major_purchase   \n\n   Debt-To-Income Ratio  delinq_2yrs  num_actv_bc_tl  pub_rec_bankruptcies  \\\n0                  5.91          0.0             2.0                   0.0   \n1                 16.06          1.0             5.0                   0.0   \n2                 10.78          0.0             2.0                   0.0   \n3                 17.06          0.0             4.0                   0.0   \n4                 25.37          1.0             4.0                   0.0   \n\n         term  int_rate loan_status  \n0   36 months     13.99  Fully Paid  \n1   36 months     11.99  Fully Paid  \n2   60 months     10.78  Fully Paid  \n3   60 months     14.85     Current  \n4   60 months     22.45  Fully Paid  ",
      "text/html": "<div>\n<style scoped>\n    .dataframe tbody tr th:only-of-type {\n        vertical-align: middle;\n    }\n\n    .dataframe tbody tr th {\n        vertical-align: top;\n    }\n\n    .dataframe thead th {\n        text-align: right;\n    }\n</style>\n<table border=\"1\" class=\"dataframe\">\n  <thead>\n    <tr style=\"text-align: right;\">\n      <th></th>\n      <th>Amount Requested</th>\n      <th>Loan Title</th>\n      <th>emp_title</th>\n      <th>Employment Length</th>\n      <th>home_ownership</th>\n      <th>annual_inc</th>\n      <th>purpose</th>\n      <th>Debt-To-Income Ratio</th>\n      <th>delinq_2yrs</th>\n      <th>num_actv_bc_tl</th>\n      <th>pub_rec_bankruptcies</th>\n      <th>term</th>\n      <th>int_rate</th>\n      <th>loan_status</th>\n    </tr>\n  </thead>\n  <tbody>\n    <tr>\n      <th>0</th>\n      <td>3600.0</td>\n      <td>Debt consolidation</td>\n      <td>leadman</td>\n      <td>10+ years</td>\n      <td>MORTGAGE</td>\n      <td>55000.0</td>\n      <td>debt_consolidation</td>\n      <td>5.91</td>\n      <td>0.0</td>\n      <td>2.0</td>\n      <td>0.0</td>\n      <td>36 months</td>\n      <td>13.99</td>\n      <td>Fully Paid</td>\n    </tr>\n    <tr>\n      <th>1</th>\n      <td>24700.0</td>\n      <td>Business</td>\n      <td>Engineer</td>\n      <td>10+ years</td>\n      <td>MORTGAGE</td>\n      <td>65000.0</td>\n      <td>small_business</td>\n      <td>16.06</td>\n      <td>1.0</td>\n      <td>5.0</td>\n      <td>0.0</td>\n      <td>36 months</td>\n      <td>11.99</td>\n      <td>Fully Paid</td>\n    </tr>\n    <tr>\n      <th>2</th>\n      <td>20000.0</td>\n      <td>NaN</td>\n      <td>truck driver</td>\n      <td>10+ years</td>\n      <td>MORTGAGE</td>\n      <td>63000.0</td>\n      <td>home_improvement</td>\n      <td>10.78</td>\n      <td>0.0</td>\n      <td>2.0</td>\n      <td>0.0</td>\n      <td>60 months</td>\n      <td>10.78</td>\n      <td>Fully Paid</td>\n    </tr>\n    <tr>\n      <th>3</th>\n      <td>35000.0</td>\n      <td>Debt consolidation</td>\n      <td>Information Systems Officer</td>\n      <td>10+ years</td>\n      <td>MORTGAGE</td>\n      <td>110000.0</td>\n      <td>debt_consolidation</td>\n      <td>17.06</td>\n      <td>0.0</td>\n      <td>4.0</td>\n      <td>0.0</td>\n      <td>60 months</td>\n      <td>14.85</td>\n      <td>Current</td>\n    </tr>\n    <tr>\n      <th>4</th>\n      <td>10400.0</td>\n      <td>Major purchase</td>\n      <td>Contract Specialist</td>\n      <td>3 years</td>\n      <td>MORTGAGE</td>\n      <td>104433.0</td>\n      <td>major_purchase</td>\n      <td>25.37</td>\n      <td>1.0</td>\n      <td>4.0</td>\n      <td>0.0</td>\n      <td>60 months</td>\n      <td>22.45</td>\n      <td>Fully Paid</td>\n    </tr>\n  </tbody>\n</table>\n</div>"
     },
     "execution_count": 11,
     "metadata": {},
     "output_type": "execute_result"
    }
   ],
   "source": [
    "df_form=accepted[[\"Amount Requested\", \"Loan Title\", \"emp_title\", \"Employment Length\",\n",
    "    \"home_ownership\", \"annual_inc\", \"purpose\", \"Debt-To-Income Ratio\",\n",
    "    \"delinq_2yrs\", \"num_actv_bc_tl\", \"pub_rec_bankruptcies\", \"term\",\"int_rate\",\"loan_status\"]]\n",
    "df_form.head()"
   ],
   "metadata": {
    "collapsed": false,
    "ExecuteTime": {
     "end_time": "2025-08-21T11:41:44.046538400Z",
     "start_time": "2025-08-21T11:41:43.010284200Z"
    }
   },
   "id": "69cc68978eff14ef",
   "execution_count": 11
  },
  {
   "cell_type": "code",
   "outputs": [],
   "source": [
    "df_form.to_csv(\"form_data.csv\",index=False)"
   ],
   "metadata": {
    "collapsed": false,
    "ExecuteTime": {
     "end_time": "2025-08-21T11:42:13.802692100Z",
     "start_time": "2025-08-21T11:41:56.950291200Z"
    }
   },
   "id": "cc34d06a4340dbef",
   "execution_count": 12
  },
  {
   "cell_type": "code",
   "outputs": [],
   "source": [],
   "metadata": {
    "collapsed": false
   },
   "id": "cee7e09678393bab"
  }
 ],
 "metadata": {
  "kernelspec": {
   "display_name": "Python 3",
   "language": "python",
   "name": "python3"
  },
  "language_info": {
   "codemirror_mode": {
    "name": "ipython",
    "version": 2
   },
   "file_extension": ".py",
   "mimetype": "text/x-python",
   "name": "python",
   "nbconvert_exporter": "python",
   "pygments_lexer": "ipython2",
   "version": "2.7.6"
  }
 },
 "nbformat": 4,
 "nbformat_minor": 5
}
